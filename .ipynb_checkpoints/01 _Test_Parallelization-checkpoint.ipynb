{
 "cells": [
  {
   "cell_type": "markdown",
   "metadata": {},
   "source": [
    "# Multiprocessing Benchmarking"
   ]
  },
  {
   "cell_type": "markdown",
   "metadata": {},
   "source": [
    "### Define help methods"
   ]
  },
  {
   "cell_type": "code",
   "execution_count": 1,
   "metadata": {},
   "outputs": [],
   "source": [
    "import multiprocessing as mp\n",
    "\n",
    "import datetime\n",
    "import os\n",
    "\n",
    "class StopWatch:\n",
    "\n",
    "    start = None\n",
    "    \n",
    "    def __init__(self):\n",
    "        self.reset()\n",
    "    \n",
    "    def reset(self):\n",
    "        self.start = datetime.datetime.now()\n",
    "    \n",
    "    def read(self, in_seconds=False):\n",
    "        delta = datetime.datetime.now() - self.start\n",
    "        if in_seconds:\n",
    "            return (delta.total_seconds())\n",
    "        return(delta)\n",
    "    \n",
    "    def show(self, in_seconds=False):\n",
    "        print(f'Elapsed time: {self.read(in_seconds=in_seconds)}.')"
   ]
  },
  {
   "cell_type": "markdown",
   "metadata": {},
   "source": [
    "### Prepare data"
   ]
  },
  {
   "cell_type": "markdown",
   "metadata": {},
   "source": [
    "To test the algorithms, we will sort rows from a matrix. The goal is to sort each row, and measure the elapsed time to perform it."
   ]
  },
  {
   "cell_type": "code",
   "execution_count": 2,
   "metadata": {},
   "outputs": [
    {
     "name": "stdout",
     "output_type": "stream",
     "text": [
      "Generating data...\n",
      "Elapsed time: 0:00:12.527381.\n"
     ]
    }
   ],
   "source": [
    "import numpy as np\n",
    "import random\n",
    "from random import randint\n",
    "\n",
    "ROWS = 4000\n",
    "COLS = 4000\n",
    "\n",
    "print('Generating data...')\n",
    "sw = StopWatch()\n",
    "random.seed(100)\n",
    "data = np.array([randint(0,4000) for i in range(ROWS * COLS)]).reshape((ROWS, COLS))\n",
    "sw.show()\n",
    "\n",
    "def bubble(iterable):\n",
    "    r = iterable.copy()\n",
    "    for i in range(len(r)-1):\n",
    "        for j in range(i + 1, len(r)):\n",
    "            if r[j] < r[i]:\n",
    "                r[j], r[i] = r[i], r[j]\n",
    "    return r"
   ]
  },
  {
   "cell_type": "markdown",
   "metadata": {},
   "source": [
    "### Sorting without multiprocessing"
   ]
  },
  {
   "cell_type": "code",
   "execution_count": 3,
   "metadata": {},
   "outputs": [
    {
     "name": "stdout",
     "output_type": "stream",
     "text": [
      "Elapsed time: 0:00:01.018477.\n",
      "[[8080992 7997543 7982066 7946091 8033457]]\n"
     ]
    }
   ],
   "source": [
    "result = []\n",
    "\n",
    "sw = StopWatch()\n",
    "for row in range(ROWS):\n",
    "    result.append(sum(data[row]))\n",
    "    \n",
    "sw.show()\n",
    "print(np.asmatrix(result)[0:5, 0:5])"
   ]
  },
  {
   "cell_type": "markdown",
   "metadata": {},
   "source": [
    "### Sorting using Pool.apply()"
   ]
  },
  {
   "cell_type": "code",
   "execution_count": 4,
   "metadata": {},
   "outputs": [
    {
     "name": "stdout",
     "output_type": "stream",
     "text": [
      "Elapsed time: 0:00:04.489544.\n",
      "[[8080992 7997543 7982066 7946091 8033457]]\n"
     ]
    }
   ],
   "source": [
    "pool = mp.Pool(processes=mp.cpu_count())\n",
    "\n",
    "sw = StopWatch()\n",
    "results = []\n",
    "for row in data:\n",
    "    results.append(pool.apply(sum, args=(row,)))\n",
    "\n",
    "pool.close()\n",
    "\n",
    "sw.show()\n",
    "print(np.asmatrix(results)[0:5, 0:5])"
   ]
  },
  {
   "cell_type": "markdown",
   "metadata": {},
   "source": [
    "### Sorting using Pool.apply_async()"
   ]
  },
  {
   "cell_type": "code",
   "execution_count": 5,
   "metadata": {},
   "outputs": [
    {
     "name": "stdout",
     "output_type": "stream",
     "text": [
      "Elapsed time: 0:00:00.704559.\n"
     ]
    }
   ],
   "source": [
    "pool = mp.Pool(processes=mp.cpu_count())\n",
    "\n",
    "sw = StopWatch()\n",
    "results = []\n",
    "for row in data:\n",
    "    results.append(pool.apply_async(sum, args=(row,)))\n",
    "\n",
    "pool.close()\n",
    "pool.join()\n",
    "\n",
    "sw.show()"
   ]
  },
  {
   "cell_type": "markdown",
   "metadata": {},
   "source": [
    "### Sorting using Pool.starmap()"
   ]
  },
  {
   "cell_type": "code",
   "execution_count": 6,
   "metadata": {},
   "outputs": [
    {
     "name": "stdout",
     "output_type": "stream",
     "text": [
      "Elapsed time: 0:00:00.612928.\n"
     ]
    }
   ],
   "source": [
    "pool = mp.Pool(processes=mp.cpu_count())\n",
    "\n",
    "sw = StopWatch()\n",
    "results = []\n",
    "results = pool.starmap(sum, [(row,) for row in data])\n",
    "\n",
    "pool.close()\n",
    "\n",
    "sw.show()"
   ]
  },
  {
   "cell_type": "markdown",
   "metadata": {},
   "source": [
    "### Sorting using Pool.starmap_async()"
   ]
  },
  {
   "cell_type": "code",
   "execution_count": 7,
   "metadata": {},
   "outputs": [
    {
     "name": "stdout",
     "output_type": "stream",
     "text": [
      "Elapsed time: 0:00:00.634166.\n"
     ]
    }
   ],
   "source": [
    "pool = mp.Pool(processes=mp.cpu_count())\n",
    "\n",
    "sw = StopWatch()\n",
    "results = []\n",
    "results = pool.starmap_async(sum, [(row,) for row in data]).get()\n",
    "\n",
    "pool.close()\n",
    "\n",
    "sw.show()"
   ]
  }
 ],
 "metadata": {
  "kernelspec": {
   "display_name": "Python 3",
   "language": "python",
   "name": "python3"
  },
  "language_info": {
   "codemirror_mode": {
    "name": "ipython",
    "version": 3
   },
   "file_extension": ".py",
   "mimetype": "text/x-python",
   "name": "python",
   "nbconvert_exporter": "python",
   "pygments_lexer": "ipython3",
   "version": "3.7.3"
  }
 },
 "nbformat": 4,
 "nbformat_minor": 2
}
