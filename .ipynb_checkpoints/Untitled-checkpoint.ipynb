{
 "cells": [
  {
   "cell_type": "code",
   "execution_count": 13,
   "metadata": {},
   "outputs": [
    {
     "name": "stdout",
     "output_type": "stream",
     "text": [
      "A, B, C\n"
     ]
    }
   ],
   "source": [
    "def test(a: str, b: str, c: str) -> None:\n",
    "    print(f'{a}, {b}, {c}')\n",
    "\n",
    "param = {'a': 'A', 'b': 'B', 'c': 'C'}\n",
    "\n",
    "test(**param)"
   ]
  },
  {
   "cell_type": "code",
   "execution_count": 15,
   "metadata": {},
   "outputs": [
    {
     "name": "stderr",
     "output_type": "stream",
     "text": [
      "/home/victormmp/anaconda3/lib/python3.7/site-packages/ipykernel_launcher.py:18: DeprecationWarning: Using or importing the ABCs from 'collections' instead of from 'collections.abc' is deprecated, and in 3.8 it will stop working\n"
     ]
    },
    {
     "data": {
      "text/plain": [
       "{'a': 1, 'b_a': 2, 'b_b_a': 3}"
      ]
     },
     "execution_count": 15,
     "metadata": {},
     "output_type": "execute_result"
    }
   ],
   "source": [
    "import collections\n",
    "\n",
    "def flatten_dictionary(dictionary, parent_key='', sep='_'):\n",
    "    \"\"\"\n",
    "    Flattens a dictionary.\n",
    "    \n",
    "    Args:\n",
    "        dictionary: Source dictionary.\n",
    "        parent_key: Parent key of current dictionary item. (Ex. nested dict value for a parent dict key).\n",
    "        sep: String separator of nested keys.\n",
    "\n",
    "    Returns:\n",
    "        Flattened dictionary.\n",
    "    \"\"\"\n",
    "    items = []\n",
    "    for key, value in dictionary.items():\n",
    "        new_key = parent_key + sep + key if parent_key else key\n",
    "        if isinstance(value, collections.MutableMapping):\n",
    "            items.extend(flatten_dictionary(value, new_key, sep=sep).items())\n",
    "        else:\n",
    "            items.append((new_key, value))\n",
    "    return dict(items)\n",
    "\n",
    "d = {}\n",
    "d['a'] = 1\n",
    "d['b'] = {}\n",
    "d['b']['a'] = 2\n",
    "d['b']['b'] = {}\n",
    "d['b']['b']['a'] = 3\n",
    "\n",
    "flatten_dictionary(d)"
   ]
  },
  {
   "cell_type": "code",
   "execution_count": 14,
   "metadata": {},
   "outputs": [
    {
     "data": {
      "text/plain": [
       "dict_items([('a', 1), ('b', {'a': 2, 'b': {'a': 3}})])"
      ]
     },
     "execution_count": 14,
     "metadata": {},
     "output_type": "execute_result"
    }
   ],
   "source": [
    "d.items()"
   ]
  },
  {
   "cell_type": "code",
   "execution_count": 20,
   "metadata": {},
   "outputs": [
    {
     "data": {
      "text/plain": [
       "True"
      ]
     },
     "execution_count": 20,
     "metadata": {},
     "output_type": "execute_result"
    }
   ],
   "source": [
    "isinstance(d, collections.MutableMapping)"
   ]
  },
  {
   "cell_type": "code",
   "execution_count": 18,
   "metadata": {},
   "outputs": [
    {
     "data": {
      "text/plain": [
       "[('a', 1), ('b', {'a': 2, 'b': {'a': 3}})]"
      ]
     },
     "execution_count": 18,
     "metadata": {},
     "output_type": "execute_result"
    }
   ],
   "source": [
    "r = []\n",
    "r.extend(d.items())\n",
    "r"
   ]
  },
  {
   "cell_type": "code",
   "execution_count": 32,
   "metadata": {},
   "outputs": [
    {
     "data": {
      "text/plain": [
       "'2019-07-11-17-33-46'"
      ]
     },
     "execution_count": 32,
     "metadata": {},
     "output_type": "execute_result"
    }
   ],
   "source": [
    "import datetime\n",
    "import time\n",
    "date = datetime.datetime.fromtimestamp(time.time()).strftime('%Y-%m-%d-%H-%M-%S')\n",
    "\n",
    "date"
   ]
  }
 ],
 "metadata": {
  "kernelspec": {
   "display_name": "Python 3",
   "language": "python",
   "name": "python3"
  },
  "language_info": {
   "codemirror_mode": {
    "name": "ipython",
    "version": 3
   },
   "file_extension": ".py",
   "mimetype": "text/x-python",
   "name": "python",
   "nbconvert_exporter": "python",
   "pygments_lexer": "ipython3",
   "version": "3.7.3"
  }
 },
 "nbformat": 4,
 "nbformat_minor": 2
}
