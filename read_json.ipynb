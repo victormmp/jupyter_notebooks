{
 "cells": [
  {
   "cell_type": "code",
   "execution_count": 12,
   "metadata": {},
   "outputs": [],
   "source": [
    "import json\n",
    "import pandas as pd"
   ]
  },
  {
   "cell_type": "code",
   "execution_count": 2,
   "metadata": {},
   "outputs": [],
   "source": [
    "message = \"{\\\"C_ID_CLIENTE\\\":100000104,\\\"C_CD_CLIENTE\\\":2415103,\\\"C_CD_EMPRESA\\\":0,\\\"C_CD_GRUPO_CLIENTE\\\":1,\\\"C_CD_SITUACAO_ENDERECO\\\":0.0,\\\"C_CD_TIPO_CAD_CLIENTE\\\":9,\\\"C_CD_UNIVERSO\\\":1254.0,\\\"C_CD_TP_TRIB_CLIENTE\\\":1.0,\\\"C_DG_CLIENTE\\\":3,\\\"C_CD_FILIAL\\\":1434,\\\"C_DT_CADASTRO\\\":\\\"20\\\\/04\\\\/2011 00:00:00\\\",\\\"C_CD_BLOQUEIO\\\":0,\\\"C_NM_CLIENTE\\\":\\\"ARACI FRANCA BERNARDO\\\",\\\"C_DT_NASCTO\\\":\\\"28\\\\/01\\\\/1949\\\",\\\"C_CD_TIPO_CARTAO\\\":5,\\\"C_DS_SEXO\\\":\\\"F\\\",\\\"C_NR_RG\\\":3583001,\\\"C_NM_CLIENTE_FONETICA\\\":null,\\\"C_NR_TEL_CELULAR\\\":null,\\\"C_NR_TELEFONE\\\":null,\\\"C_NR_VIA\\\":1.0,\\\"C_NR_LOTE\\\":null,\\\"C_DT_ENVIO\\\":\\\"06\\\\/05\\\\/2011 00:00:00\\\",\\\"C_NR_MATR_FUNCIONAL\\\":null,\\\"C_DS_EMAIL\\\":null,\\\"C_NR_BENEFICIO\\\":null,\\\"C_CD_FREQUENCIA\\\":null,\\\"C_CD_SIT_ENDERECO\\\":0,\\\"C_CD_RECENCIA\\\":null,\\\"C_CD_VOLUME\\\":null,\\\"C_DT_ULTIMA_ATUALIZ\\\":\\\"09\\\\/02\\\\/2017 11:56:30\\\",\\\"C_FL_CADASTRO\\\":0,\\\"C_FL_CARTAO\\\":\\\"0\\\",\\\"C_VL_LIMITE_CREDITO\\\":null,\\\"C_FL_PENDENTE\\\":0,\\\"C_DT_ULT_COMPRA\\\":\\\"04\\\\/03\\\\/2015\\\",\\\"C_DT_ULT_FECHTO\\\":null,\\\"C_CD_GERENTE_CADASTROU\\\":null,\\\"C_NR_DDD\\\":null,\\\"C_DT_TIMESTAMP\\\":\\\"22\\\\/05\\\\/2012 10:51:29\\\",\\\"C_DT_ATUALIZACAO_PDV\\\":\\\"22\\\\/05\\\\/2012 10:51:29\\\",\\\"C_FL_ISENCAO_TAXA_ENTREGA\\\":0.0,\\\"C_CD_TIPO_CARTAO_DESC_CONVENIO\\\":null,\\\"C_DT_VAL_ISENCAO_TX_ENTREGA\\\":null,\\\"C_NR_CNPJ_CPF\\\":93341733787,\\\"C_CD_FILIAL_FREQUENTE\\\":1434,\\\"C_CD_OPERADOR\\\":1070282.0,\\\"C_NM_TRATAMENTO\\\":null,\\\"C_QT_DUPLICIDADE\\\":0.0,\\\"C_NR_DDD_DDI\\\":null,\\\"C_NR_RAMAL\\\":null,\\\"C_ST_CLIENTE_INCONSISTENCIA\\\":null,\\\"C_NR_IDENTIFICACAO\\\":null,\\\"C_CD_TIPO_DOC_IDENTIFICACAO\\\":null,\\\"C_CD_CLIENTE_CPF_STATUS\\\":0.0,\\\"C_FL_RETIRAR_CARTAO\\\":0.0,\\\"C_CD_CARTAO_LOCALIZACAO\\\":null,\\\"C_DT_ENTRADA_CARTAO\\\":null,\\\"C_DT_SAIDA_CARTAO\\\":null,\\\"C_ID_CLIENTE_TITULAR\\\":null,\\\"C_CD_PARENTESCO\\\":null,\\\"C_CD_CLIENTE_WEB\\\":null,\\\"C_DS_IDENTIFICACAO\\\":null,\\\"C_ID_ORGANOGRAMA\\\":null,\\\"C_FL_ENVIADO_LOJA\\\":0.0,\\\"C_DS_RG_ORG_EXPEDIDOR\\\":\\\"RJ\\\",\\\"C_FL_PENSIONISTA\\\":null,\\\"C_FL_PROMOCAO\\\":null,\\\"C_CD_TIPO_ORIGEM_DADOS\\\":null,\\\"C_ID_CLIENTE_INTERNO\\\":73042903,\\\"CE_ID_CLIENTE\\\":100000104.0,\\\"CE_NR_SEQUE\\\":1.0,\\\"CE_SG_ESTADO\\\":\\\"RJ\\\",\\\"CE_FL_POSTAL\\\":0.0,\\\"CE_DS_ENDERECO\\\":\\\"R OLAVO   15A\\\",\\\"CE_NR_ENDERECO\\\":15.0,\\\"CE_DS_COMPLEMENTO\\\":\\\"GUARATIBA\\\",\\\"CE_DS_BAIRRO\\\":\\\"CAMPO GRANDE\\\",\\\"CE_DS_CIDADE\\\":\\\"ANGRA DOS REIS\\\",\\\"CE_NR_CEP\\\":23040400.0,\\\"CE_FL_DESATIVADO\\\":0.0,\\\"CE_CD_ENDERECO_TP_LOGRADOURO\\\":null,\\\"CE_ST_CLIENTE_INCONSISTENCIA\\\":null,\\\"CE_ID_UNIDADE_DOMICILIAR\\\":null,\\\"CE_CD_ENDERECO_ISENCAO\\\":null,\\\"CE_DT_ATUALIZACAO\\\":\\\"01\\\\/03\\\\/2014 08:12:33\\\",\\\"CE_DS_PONTO_REFERENCIA\\\":null,\\\"CE_SG_ENDERECO_TIPO\\\":null,\\\"CT_NR_PREFIXO\\\":21.0,\\\"CT_NR_TELEFONE\\\":87989914.0,\\\"CT_CD_TELEFONE_TIPO\\\":1.0,\\\"CT_ID_CLIENTE\\\":100000104.0,\\\"CT_CD_OPERADOR\\\":1070282.0,\\\"CT_SG_TIPO_TELEFONE\\\":\\\"R\\\",\\\"CT_DT_ATUALIZACAO\\\":\\\"05\\\\/05\\\\/2011 00:00:00\\\"}\""
   ]
  },
  {
   "cell_type": "code",
   "execution_count": 6,
   "metadata": {},
   "outputs": [],
   "source": [
    "t = json.loads(message)"
   ]
  },
  {
   "cell_type": "code",
   "execution_count": 14,
   "metadata": {},
   "outputs": [
    {
     "data": {
      "text/html": [
       "<div>\n",
       "<style scoped>\n",
       "    .dataframe tbody tr th:only-of-type {\n",
       "        vertical-align: middle;\n",
       "    }\n",
       "\n",
       "    .dataframe tbody tr th {\n",
       "        vertical-align: top;\n",
       "    }\n",
       "\n",
       "    .dataframe thead th {\n",
       "        text-align: right;\n",
       "    }\n",
       "</style>\n",
       "<table border=\"1\" class=\"dataframe\">\n",
       "  <thead>\n",
       "    <tr style=\"text-align: right;\">\n",
       "      <th></th>\n",
       "      <th>CE_CD_ENDERECO_ISENCAO</th>\n",
       "      <th>CE_CD_ENDERECO_TP_LOGRADOURO</th>\n",
       "      <th>CE_DS_BAIRRO</th>\n",
       "      <th>CE_DS_CIDADE</th>\n",
       "      <th>CE_DS_COMPLEMENTO</th>\n",
       "      <th>CE_DS_ENDERECO</th>\n",
       "      <th>CE_DS_PONTO_REFERENCIA</th>\n",
       "      <th>CE_DT_ATUALIZACAO</th>\n",
       "      <th>CE_FL_DESATIVADO</th>\n",
       "      <th>CE_FL_POSTAL</th>\n",
       "      <th>...</th>\n",
       "      <th>C_NR_LOTE</th>\n",
       "      <th>C_NR_MATR_FUNCIONAL</th>\n",
       "      <th>C_NR_RAMAL</th>\n",
       "      <th>C_NR_RG</th>\n",
       "      <th>C_NR_TELEFONE</th>\n",
       "      <th>C_NR_TEL_CELULAR</th>\n",
       "      <th>C_NR_VIA</th>\n",
       "      <th>C_QT_DUPLICIDADE</th>\n",
       "      <th>C_ST_CLIENTE_INCONSISTENCIA</th>\n",
       "      <th>C_VL_LIMITE_CREDITO</th>\n",
       "    </tr>\n",
       "  </thead>\n",
       "  <tbody>\n",
       "    <tr>\n",
       "      <th>0</th>\n",
       "      <td>None</td>\n",
       "      <td>None</td>\n",
       "      <td>CAMPO GRANDE</td>\n",
       "      <td>ANGRA DOS REIS</td>\n",
       "      <td>GUARATIBA</td>\n",
       "      <td>R OLAVO   15A</td>\n",
       "      <td>None</td>\n",
       "      <td>01/03/2014 08:12:33</td>\n",
       "      <td>0.0</td>\n",
       "      <td>0.0</td>\n",
       "      <td>...</td>\n",
       "      <td>None</td>\n",
       "      <td>None</td>\n",
       "      <td>None</td>\n",
       "      <td>3583001</td>\n",
       "      <td>None</td>\n",
       "      <td>None</td>\n",
       "      <td>1.0</td>\n",
       "      <td>0.0</td>\n",
       "      <td>None</td>\n",
       "      <td>None</td>\n",
       "    </tr>\n",
       "  </tbody>\n",
       "</table>\n",
       "<p>1 rows × 95 columns</p>\n",
       "</div>"
      ],
      "text/plain": [
       "  CE_CD_ENDERECO_ISENCAO CE_CD_ENDERECO_TP_LOGRADOURO  CE_DS_BAIRRO  \\\n",
       "0                   None                         None  CAMPO GRANDE   \n",
       "\n",
       "     CE_DS_CIDADE CE_DS_COMPLEMENTO CE_DS_ENDERECO CE_DS_PONTO_REFERENCIA  \\\n",
       "0  ANGRA DOS REIS         GUARATIBA  R OLAVO   15A                   None   \n",
       "\n",
       "     CE_DT_ATUALIZACAO  CE_FL_DESATIVADO  CE_FL_POSTAL  ...  C_NR_LOTE  \\\n",
       "0  01/03/2014 08:12:33               0.0           0.0  ...       None   \n",
       "\n",
       "  C_NR_MATR_FUNCIONAL  C_NR_RAMAL  C_NR_RG  C_NR_TELEFONE C_NR_TEL_CELULAR  \\\n",
       "0                None        None  3583001           None             None   \n",
       "\n",
       "  C_NR_VIA C_QT_DUPLICIDADE  C_ST_CLIENTE_INCONSISTENCIA  C_VL_LIMITE_CREDITO  \n",
       "0      1.0              0.0                         None                 None  \n",
       "\n",
       "[1 rows x 95 columns]"
      ]
     },
     "execution_count": 14,
     "metadata": {},
     "output_type": "execute_result"
    }
   ],
   "source": [
    "pd.DataFrame([t])"
   ]
  }
 ],
 "metadata": {
  "kernelspec": {
   "display_name": "Python 3",
   "language": "python",
   "name": "python3"
  },
  "language_info": {
   "codemirror_mode": {
    "name": "ipython",
    "version": 3
   },
   "file_extension": ".py",
   "mimetype": "text/x-python",
   "name": "python",
   "nbconvert_exporter": "python",
   "pygments_lexer": "ipython3",
   "version": "3.7.3"
  }
 },
 "nbformat": 4,
 "nbformat_minor": 2
}
