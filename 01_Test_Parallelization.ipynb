{
 "cells": [
  {
   "cell_type": "markdown",
   "metadata": {},
   "source": [
    "# Multiprocessing Benchmarking"
   ]
  },
  {
   "cell_type": "markdown",
   "metadata": {},
   "source": [
    "## Testing Parallelizing Methods"
   ]
  },
  {
   "cell_type": "markdown",
   "metadata": {},
   "source": [
    "### Define help methods"
   ]
  },
  {
   "cell_type": "code",
   "execution_count": 5,
   "metadata": {},
   "outputs": [],
   "source": [
    "import multiprocessing as mp\n",
    "\n",
    "import datetime\n",
    "import os\n",
    "\n",
    "import numpy as np\n",
    "import random\n",
    "from random import randint\n",
    "import click\n",
    "\n",
    "class StopWatch:\n",
    "\n",
    "    start = None\n",
    "    \n",
    "    def __init__(self):\n",
    "        self.reset()\n",
    "    \n",
    "    def reset(self):\n",
    "        self.start = datetime.datetime.now()\n",
    "    \n",
    "    def read(self, in_seconds=False):\n",
    "        delta = datetime.datetime.now() - self.start\n",
    "        if in_seconds:\n",
    "            return (delta.total_seconds())\n",
    "        return(delta)\n",
    "    \n",
    "    def show(self, in_seconds=False):\n",
    "        print(f'Elapsed time: {self.read(in_seconds=in_seconds)}.')"
   ]
  },
  {
   "cell_type": "markdown",
   "metadata": {},
   "source": [
    "### Prepare data"
   ]
  },
  {
   "cell_type": "markdown",
   "metadata": {},
   "source": [
    "To test the algorithms, we will sort rows from a matrix. The goal is to sort each row, and measure the elapsed time to perform it."
   ]
  },
  {
   "cell_type": "code",
   "execution_count": 3,
   "metadata": {},
   "outputs": [
    {
     "name": "stdout",
     "output_type": "stream",
     "text": [
      "Generating data...\n",
      "Elapsed time: 0:00:00.424131.\n"
     ]
    }
   ],
   "source": [
    "ROWS = 1000\n",
    "COLS = 500\n",
    "\n",
    "print('Generating data...')\n",
    "sw = StopWatch()\n",
    "random.seed(100)\n",
    "data = np.array([randint(0,4000) for i in range(ROWS * COLS)]).reshape((ROWS, COLS))\n",
    "sw.show()\n",
    "\n",
    "def bubble(iterable):\n",
    "    r = iterable.copy()\n",
    "    for i in range(len(r)-1):\n",
    "        for j in range(i + 1, len(r)):\n",
    "            if r[j] < r[i]:\n",
    "                r[j], r[i] = r[i], r[j]\n",
    "    return sum(r)"
   ]
  },
  {
   "cell_type": "markdown",
   "metadata": {},
   "source": [
    "### Sorting without multiprocessing"
   ]
  },
  {
   "cell_type": "code",
   "execution_count": 3,
   "metadata": {},
   "outputs": [
    {
     "name": "stdout",
     "output_type": "stream",
     "text": [
      "Elapsed time: 0:00:32.640735.\n",
      "[998776, 995921, 1030872, 962105, 1046982, 985287, 1041406, 1019643, 1004639, 934978]\n"
     ]
    }
   ],
   "source": [
    "result = []\n",
    "\n",
    "sw = StopWatch()\n",
    "for row in range(ROWS):\n",
    "    result.append(bubble(data[row]))\n",
    "    \n",
    "sw.show()\n",
    "print(result[0:10])"
   ]
  },
  {
   "cell_type": "markdown",
   "metadata": {},
   "source": [
    "### Sorting using Pool.apply()"
   ]
  },
  {
   "cell_type": "code",
   "execution_count": 4,
   "metadata": {},
   "outputs": [
    {
     "name": "stdout",
     "output_type": "stream",
     "text": [
      "Elapsed time: 0:00:42.456957.\n",
      "[998776, 995921, 1030872, 962105, 1046982, 985287, 1041406, 1019643, 1004639, 934978]\n"
     ]
    }
   ],
   "source": [
    "pool = mp.Pool(processes=mp.cpu_count())\n",
    "\n",
    "sw = StopWatch()\n",
    "results = []\n",
    "for row in data:\n",
    "    results.append(pool.apply(bubble, args=(row,)))\n",
    "\n",
    "pool.close()\n",
    "\n",
    "sw.show()\n",
    "print(result[0:10])"
   ]
  },
  {
   "cell_type": "markdown",
   "metadata": {},
   "source": [
    "### Sorting using Pool.apply_async()"
   ]
  },
  {
   "cell_type": "code",
   "execution_count": 5,
   "metadata": {},
   "outputs": [
    {
     "name": "stdout",
     "output_type": "stream",
     "text": [
      "Elapsed time: 0:00:12.120840.\n",
      "[998776, 995921, 1030872, 962105, 1046982, 985287, 1041406, 1019643, 1004639, 934978]\n"
     ]
    }
   ],
   "source": [
    "pool = mp.Pool(processes=mp.cpu_count())\n",
    "\n",
    "sw = StopWatch()\n",
    "results = []\n",
    "for row in data:\n",
    "    results.append(pool.apply_async(bubble, args=(row,)))\n",
    "\n",
    "pool.close()\n",
    "pool.join()\n",
    "\n",
    "sw.show()\n",
    "print(result[0:10])"
   ]
  },
  {
   "cell_type": "markdown",
   "metadata": {},
   "source": [
    "### Sorting using Pool.starmap()"
   ]
  },
  {
   "cell_type": "code",
   "execution_count": 6,
   "metadata": {},
   "outputs": [
    {
     "name": "stdout",
     "output_type": "stream",
     "text": [
      "Elapsed time: 0:00:11.415711.\n",
      "[998776, 995921, 1030872, 962105, 1046982, 985287, 1041406, 1019643, 1004639, 934978]\n"
     ]
    }
   ],
   "source": [
    "pool = mp.Pool(processes=mp.cpu_count())\n",
    "\n",
    "sw = StopWatch()\n",
    "results = []\n",
    "results = pool.starmap(bubble, [(row,) for row in data])\n",
    "\n",
    "pool.close()\n",
    "\n",
    "sw.show()\n",
    "print(result[0:10])"
   ]
  },
  {
   "cell_type": "markdown",
   "metadata": {},
   "source": [
    "### Sorting using Pool.imap()"
   ]
  },
  {
   "cell_type": "code",
   "execution_count": 7,
   "metadata": {},
   "outputs": [
    {
     "name": "stdout",
     "output_type": "stream",
     "text": [
      "Elapsed time: 0:00:11.708029.\n",
      "[998776, 995921, 1030872, 962105, 1046982, 985287, 1041406, 1019643, 1004639, 934978]\n"
     ]
    }
   ],
   "source": [
    "pool = mp.Pool(processes=mp.cpu_count())\n",
    "\n",
    "sw = StopWatch()\n",
    "results = []\n",
    "results = pool.imap(bubble, [row for row in data])\n",
    "\n",
    "pool.close()\n",
    "\n",
    "result_array = []\n",
    "for (key, content) in enumerate(results):\n",
    "    result_array.append(content)\n",
    "    \n",
    "sw.show()\n",
    "print(result_array[0:10])"
   ]
  },
  {
   "cell_type": "markdown",
   "metadata": {},
   "source": [
    "### Sorting using Pool.starmap_async()"
   ]
  },
  {
   "cell_type": "code",
   "execution_count": 8,
   "metadata": {},
   "outputs": [
    {
     "name": "stdout",
     "output_type": "stream",
     "text": [
      "Elapsed time: 0:00:11.041710.\n"
     ]
    }
   ],
   "source": [
    "pool = mp.Pool(processes=mp.cpu_count())\n",
    "\n",
    "sw = StopWatch()\n",
    "results = []\n",
    "results = pool.starmap_async(bubble, [(row,) for row in data]).get()\n",
    "\n",
    "pool.close()\n",
    "\n",
    "sw.show()"
   ]
  },
  {
   "cell_type": "markdown",
   "metadata": {},
   "source": [
    "---"
   ]
  },
  {
   "cell_type": "markdown",
   "metadata": {},
   "source": [
    "## Testing SingletonRetry with Multiprocessing"
   ]
  },
  {
   "cell_type": "markdown",
   "metadata": {},
   "source": [
    "### Defining a Singleton Class"
   ]
  },
  {
   "cell_type": "code",
   "execution_count": 6,
   "metadata": {},
   "outputs": [],
   "source": [
    "class SingletonRetry:\n",
    "    __instance = None\n",
    "\n",
    "    def __new__(cls):\n",
    "        if SingletonRetry.__instance is None:\n",
    "            SingletonRetry.__instance = object.__new__(cls)\n",
    "            SingletonRetry.__instance.retry_entries = []\n",
    "\n",
    "        return SingletonRetry.__instance\n",
    "\n",
    "    @staticmethod\n",
    "    def force_new():\n",
    "        SingletonRetry.__instance = None\n",
    "\n",
    "    @staticmethod\n",
    "    def get_retry_entries():\n",
    "        \"\"\"\n",
    "        Get the retry entries.\n",
    "\n",
    "        Returns:\n",
    "            List of RetryEntries.\n",
    "        \"\"\"\n",
    "\n",
    "        return SingletonRetry.__instance.retry_entries\n",
    "\n",
    "    @staticmethod\n",
    "    def add_retry_entry(data):\n",
    "        \"\"\"\n",
    "        Append retry entry into singleton object.\n",
    "\n",
    "        Args:\n",
    "            retry_entry: Instance of RetryEntry\n",
    "\n",
    "        Returns:\n",
    "            None\n",
    "        \"\"\"\n",
    "        return SingletonRetry.__instance.retry_entries.append(data)\n",
    "\n",
    "    "
   ]
  },
  {
   "cell_type": "code",
   "execution_count": 11,
   "metadata": {},
   "outputs": [],
   "source": [
    "SingletonRetry().force_new()\n",
    "singleton = SingletonRetry()\n",
    "singleton.add_retry_entry(999)\n",
    "\n",
    "def add_data_to_singleton(data):\n",
    "    swi = StopWatch()\n",
    "    for row in data:\n",
    "        singleton.add_retry_entry(row)\n",
    "    singleton.add_retry_entry(swi.read())\n",
    "    print(f'Inside Process: {singleton.get_retry_entries()}')\n",
    "    singleton.force_new()\n",
    "\n",
    "# def callback(result):\n",
    "#     global singleton\n",
    "#     singleton.add_retry_entry(result)\n",
    "\n",
    "# print(f'Singleton entries after first instatiation: {singleton.get_retry_entries()}')"
   ]
  },
  {
   "cell_type": "code",
   "execution_count": 12,
   "metadata": {},
   "outputs": [
    {
     "name": "stdout",
     "output_type": "stream",
     "text": [
      "Inside Process: [999, 30, 31, 32, 33, 34, 35, 36, 37, 38, 39, datetime.timedelta(microseconds=44)]\n",
      "Inside Process: [999, 10, 11, 12, 13, 14, 15, 16, 17, 18, 19, datetime.timedelta(microseconds=52)]\n",
      "Inside Process: [999, 40, 41, 42, 43, 44, 45, 46, 47, 48, 49, datetime.timedelta(microseconds=51)]\n",
      "Inside Process: [999, 0, 1, 2, 3, 4, 5, 6, 7, 8, 9, datetime.timedelta(microseconds=53)]\n",
      "Inside Process: [999, 50, 51, 52, 53, 54, 55, 56, 57, 58, 59, datetime.timedelta(microseconds=52)]\n",
      "Inside Process: [999, 60, 61, 62, 63, 64, 65, 66, 67, 68, 69, datetime.timedelta(microseconds=49)]\n",
      "Inside Process: [999, 20, 21, 22, 23, 24, 25, 26, 27, 28, 29, datetime.timedelta(microseconds=49)]\n",
      "Inside Process: [999, 70, 71, 72, 73, 74, 75, 76, 77, 78, 79, datetime.timedelta(microseconds=55)]\n",
      "Elapsed time: 0:00:00.100695.\n"
     ]
    }
   ],
   "source": [
    "pool = mp.Pool(processes=mp.cpu_count())\n",
    "\n",
    "data = np.array([i for i in range(100)]).reshape((10, 10))\n",
    "\n",
    "sw = StopWatch()\n",
    "results = []\n",
    "for row in data:\n",
    "    results.append(pool.apply_async(add_data_to_singleton, args=(row,)))\n",
    "\n",
    "pool.close()\n",
    "pool.join()\n",
    "\n",
    "sw.show()"
   ]
  }
 ],
 "metadata": {
  "kernelspec": {
   "display_name": "Python 3",
   "language": "python",
   "name": "python3"
  },
  "language_info": {
   "codemirror_mode": {
    "name": "ipython",
    "version": 3
   },
   "file_extension": ".py",
   "mimetype": "text/x-python",
   "name": "python",
   "nbconvert_exporter": "python",
   "pygments_lexer": "ipython3",
   "version": "3.7.3"
  }
 },
 "nbformat": 4,
 "nbformat_minor": 2
}
